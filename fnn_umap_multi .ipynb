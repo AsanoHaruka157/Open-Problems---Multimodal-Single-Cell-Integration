{
 "cells": [
  {
   "cell_type": "code",
   "execution_count": 1,
   "id": "0f85063b",
   "metadata": {},
   "outputs": [
    {
     "name": "stdout",
     "output_type": "stream",
     "text": [
      "Using device: cuda\n"
     ]
    }
   ],
   "source": [
    "# --- Imports and Setup ---\n",
    "import numpy as np\n",
    "import pandas as pd\n",
    "import gc\n",
    "import os\n",
    "import joblib\n",
    "\n",
    "# PyTorch and Dataloader\n",
    "import torch\n",
    "from torch.utils.data import Dataset, DataLoader\n",
    "import torch.nn as nn\n",
    "import torch.nn.functional as F\n",
    "\n",
    "# Scikit-learn and UMAP\n",
    "from sklearn.model_selection import KFold\n",
    "from sklearn.preprocessing import normalize\n",
    "import umap\n",
    "\n",
    "# AnnData for loading\n",
    "import anndata as ad\n",
    "from scipy.sparse import issparse\n",
    "\n",
    "\n",
    "\n",
    "\n",
    "# --- Global Configuration ---\n",
    "name = 'multi'\n",
    "\n",
    "DEVICE = \"cuda\" if torch.cuda.is_available() else \"cpu\"\n",
    "print(f\"Using device: {DEVICE}\")\n",
    "\n",
    "# --- Helper Functions ---\n",
    "\n",
    "def neg_correlation_score_torch(y_pred: torch.Tensor, y_true: torch.Tensor, eps: float = 1e-8) -> torch.Tensor:\n",
    "    \"\"\"\n",
    "    Row-wise Pearson correlation for PyTorch Tensors.\n",
    "    \"\"\"\n",
    "    x = y_true - y_true.mean(dim=1, keepdim=True)\n",
    "    y = y_pred - y_pred.mean(dim=1, keepdim=True)\n",
    "    num = (x * y).sum(dim=1)\n",
    "    den = torch.sqrt((x.square().sum(dim=1) + eps) * (y.square().sum(dim=1) + eps))\n",
    "    r = num / den\n",
    "    return -r.mean()\n",
    "\n",
    "def pearson_corr_numpy(y_pred: np.ndarray, y_true: np.ndarray) -> float:\n",
    "    \"\"\"\n",
    "    Calculates mean row-wise Pearson correlation for NumPy arrays.\n",
    "    \"\"\"\n",
    "    # Calculate row-wise correlation\n",
    "    corrs = np.array([np.corrcoef(p, t)[0, 1] for p, t in zip(y_pred, y_true)])\n",
    "    # Return the mean of correlations, handling potential NaNs\n",
    "    return np.nanmean(corrs)\n",
    "\n",
    "from scipy import sparse\n",
    "from scipy.sparse import issparse\n",
    "import warnings\n",
    "\n",
    "def sparse_clr_transform(X: sparse.csr_matrix):\n",
    "    \"\"\"\n",
    "    Applies a sparse-friendly Centered Log-Ratio (CLR) transformation.\n",
    "    It operates only on the non-zero elements of the matrix, preserving sparsity.\n",
    "    1. log1p is applied to all non-zero elements.\n",
    "    2. For each row, the mean of these transformed values is computed.\n",
    "    3. This mean is then subtracted from each non-zero element's transformed value in that row.\n",
    "    \"\"\"\n",
    "    print(\"  Applying sparse-friendly CLR transformation...\")\n",
    "    \n",
    "    # Ensure matrix is in CSR format for efficient row-wise operations\n",
    "    X = X.tocsr()\n",
    "    \n",
    "    log1p_data = np.log1p(X.data)\n",
    "    \n",
    "    clr_data = np.zeros_like(log1p_data)\n",
    "    \n",
    "    for i in range(X.shape[0]):\n",
    "        start, end = X.indptr[i], X.indptr[i+1]\n",
    "        \n",
    "        if end > start:\n",
    "            row_mean = np.mean(log1p_data[start:end])\n",
    "            clr_data[start:end] = log1p_data[start:end] - row_mean\n",
    "            \n",
    "    X_clr_sparse = sparse.csr_matrix((clr_data, X.indices, X.indptr), shape=X.shape)\n",
    "    \n",
    "    return X_clr_sparse"
   ]
  },
  {
   "cell_type": "code",
   "execution_count": null,
   "id": "11e86af9",
   "metadata": {},
   "outputs": [
    {
     "name": "stdout",
     "output_type": "stream",
     "text": [
      "Loading sparse data from .h5ad files...\n"
     ]
    }
   ],
   "source": [
    "# --- Cell 2: Data Loading and Preprocessing ---\n",
    "from sklearn.decomposition import TruncatedSVD\n",
    "from sklearn.preprocessing import normalize\n",
    "# --- Dimensional Hyperparameters ---\n",
    "SVD_PRE_COMPONENTS_X = 128  # SVD components for input X pre-reduction\n",
    "UMAP_COMPONENTS_X = 64      # Final UMAP dimension for input X\n",
    "SVD_COMPONENTS_Y = 128      # Final SVD dimension for target y\n",
    "UMAP_N_NEIGHBORS = 15\n",
    "UMAP_MIN_DIST = 0.1\n",
    "\n",
    "# --- a) Load sparse data ---\n",
    "print(\"Loading sparse data from .h5ad files...\")\n",
    "PATH_TRAIN_INP = f\"train_{name}_inputs.h5ad\"\n",
    "PATH_TRAIN_TGT = f\"train_{name}_targets.h5ad\"\n",
    "PATH_TEST_INP  = f\"test_{name}_inputs.h5ad\"\n",
    "\n",
    "adata_train_inp = ad.read_h5ad(PATH_TRAIN_INP)\n",
    "adata_train_tgt = ad.read_h5ad(PATH_TRAIN_TGT)\n",
    "adata_test_inp = ad.read_h5ad(PATH_TEST_INP)\n",
    "\n",
    "train_X_sparse = adata_train_inp.X\n",
    "test_X_sparse = adata_test_inp.X\n",
    "train_y_sparse = adata_train_tgt.X\n",
    "\n",
    "print(f\"Initial sparse train_X shape: {train_X_sparse.shape}\")\n",
    "print(f\"Initial sparse train_y shape: {train_y_sparse.shape}\")\n",
    "\n",
    "# --- Input Matrix Preprocessing (train_X, test_X) ---\n",
    "print(\"\\n--- Preprocessing Input Matrices (X) with Sparse CLR -> SVD -> UMAP... ---\")\n",
    "# Step 1: Sparse CLR transformation\n",
    "train_X_clr_sparse = sparse_clr_transform(train_X_sparse)\n",
    "test_X_clr_sparse = sparse_clr_transform(test_X_sparse)\n",
    "\n",
    "# Step 2: SVD Pre-reduction\n",
    "print(f\"Step 2: Performing TruncatedSVD on sparse X to {SVD_PRE_COMPONENTS_X} components...\")\n",
    "svd_x = TruncatedSVD(n_components=SVD_PRE_COMPONENTS_X, random_state=42)\n",
    "train_X_svd = svd_x.fit_transform(train_X_clr_sparse)\n",
    "test_X_svd = svd_x.transform(test_X_clr_sparse)\n",
    "\n",
    "# Step 3: UMAP decomposition\n",
    "print(f\"Step 3: Performing UMAP on SVD-reduced X to {UMAP_COMPONENTS_X} components...\")\n",
    "mapper_x = umap.UMAP(n_components=UMAP_COMPONENTS_X, n_neighbors=UMAP_N_NEIGHBORS,\n",
    "                   min_dist=UMAP_MIN_DIST, random_state=42)\n",
    "train_X_umap = mapper_x.fit_transform(train_X_svd)\n",
    "test_X_umap = mapper_x.transform(test_X_svd)\n",
    "print(f\"Finished X preprocessing. Final train_X_umap shape: {train_X_umap.shape}\")\n",
    "\n",
    "\n",
    "# --- Target Matrix Preprocessing (train_y) ---\n",
    "print(\"\\n--- Preprocessing Target Matrix (y) with Sparse CLR -> SVD... ---\")\n",
    "# Step 1: Sparse CLR transformation\n",
    "train_y_clr_sparse = sparse_clr_transform(train_y_sparse)\n",
    "# Convert to dense for validation metric calculation\n",
    "train_y_clr = train_y_clr_sparse.toarray()\n",
    "\n",
    "# Step 2: SVD-only reduction for a robust inverse transform\n",
    "print(f\"Step 2: Performing TruncatedSVD on y to {SVD_COMPONENTS_Y} components...\")\n",
    "svd_y = TruncatedSVD(n_components=SVD_COMPONENTS_Y, random_state=42)\n",
    "train_y_svd = svd_y.fit_transform(train_y_clr_sparse)\n",
    "print(f\"Finished y preprocessing. Final train_y_svd shape: {train_y_svd.shape}\")\n",
    "\n",
    "joblib.dump(svd_y, 'svd_y_model.joblib')\n",
    "print(\"Saved svd_y model.\")\n",
    "\n",
    "# --- Clean up unused variables ---\n",
    "print(\"\\nCleaning up memory...\")\n",
    "del adata_train_inp, adata_train_tgt, adata_test_inp, train_X_sparse, test_X_sparse, train_y_sparse\n",
    "del train_X_clr_sparse, test_X_clr_sparse, train_y_clr_sparse\n",
    "del train_X_svd, test_X_svd\n",
    "# keep train_y_clr for validation\n",
    "gc.collect()\n",
    "\n",
    "# --- Final Check ---\n",
    "print(\"\\nPreprocessing complete. Final shapes for training:\")\n",
    "print(f\"train_X_umap: {train_X_umap.shape}\")\n",
    "print(f\"train_y_svd: {train_y_svd.shape}\")\n",
    "print(f\"test_X_umap: {test_X_umap.shape}\")"
   ]
  },
  {
   "cell_type": "code",
   "execution_count": null,
   "id": "10f9a199",
   "metadata": {},
   "outputs": [],
   "source": [
    "# --- Cell 3: Dataset Class (Restored for Validation Metric) ---\n",
    "class MultiTargetDataset(Dataset):\n",
    "    def __init__(self, features, targets_low_dim, targets_full_dim):\n",
    "        \"\"\"\n",
    "        Custom Dataset that returns low-dim features, low-dim targets (for loss),\n",
    "        and full-dim targets (for validation metric).\n",
    "        \"\"\"\n",
    "        self.features = features\n",
    "        self.targets_low_dim = targets_low_dim\n",
    "        self.targets_full_dim = targets_full_dim\n",
    "\n",
    "    def __len__(self):\n",
    "        return self.features.shape[0]\n",
    "\n",
    "    def __getitem__(self, idx):\n",
    "        feature = torch.tensor(self.features[idx], dtype=torch.float32)\n",
    "        target_low = torch.tensor(self.targets_low_dim[idx], dtype=torch.float32)\n",
    "        # targets_full_dim is already a dense numpy array\n",
    "        target_full = torch.tensor(self.targets_full_dim[idx], dtype=torch.float32)\n",
    "        return feature, target_low, target_full"
   ]
  },
  {
   "cell_type": "code",
   "execution_count": null,
   "id": "136cee86",
   "metadata": {},
   "outputs": [],
   "source": [
    "# --- Cell 4 : Model Architecture (FNN) ---\n",
    "class FNNModel(nn.Module):\n",
    "    def __init__(self, num_features, target_dim, hidden_size=1024, dropout=0.25):\n",
    "        \"\"\"\n",
    "        A simple Feedforward Neural Network (FNN/MLP).\n",
    "        \"\"\"\n",
    "        super().__init__()\n",
    "        self.net = nn.Sequential(\n",
    "            nn.Linear(num_features, hidden_size),\n",
    "            nn.BatchNorm1d(hidden_size),\n",
    "            nn.GELU(),\n",
    "            nn.Dropout(dropout),\n",
    "            \n",
    "            nn.Linear(hidden_size, hidden_size // 2),\n",
    "            nn.BatchNorm1d(hidden_size // 2),\n",
    "            nn.GELU(),\n",
    "            nn.Dropout(dropout),\n",
    "            \n",
    "            nn.Linear(hidden_size // 2, target_dim)\n",
    "        )\n",
    "\n",
    "    def forward(self, x):\n",
    "        return self.net(x)"
   ]
  },
  {
   "cell_type": "code",
   "execution_count": null,
   "id": "baec4258",
   "metadata": {},
   "outputs": [],
   "source": [
    "# --- Cell 5: Loss function ---\n",
    "class CombinedLoss(nn.Module):\n",
    "    \"\"\"\n",
    "    Combines MSE loss and negative Pearson correlation loss in the latent space.\n",
    "    \"\"\"\n",
    "    def __init__(self):\n",
    "        super().__init__()\n",
    "        self.mse_loss = nn.MSELoss()\n",
    "        self.corr_loss = neg_correlation_score_torch\n",
    "\n",
    "    def forward(self, pred_low_dim, true_low_dim):\n",
    "        # Calculate losses in the latent space\n",
    "        loss_mse = self.mse_loss(pred_low_dim, true_low_dim)\n",
    "        loss_corr = self.corr_loss(pred_low_dim, true_low_dim)\n",
    "        return loss_mse + loss_corr"
   ]
  },
  {
   "cell_type": "code",
   "execution_count": null,
   "id": "57a31562",
   "metadata": {},
   "outputs": [
    {
     "name": "stderr",
     "output_type": "stream",
     "text": [
      "d:\\temp\\ipykernel_19020\\861568575.py:2: DeprecationWarning: Please use `QhullError` from the `scipy.spatial` namespace, the `scipy.spatial.qhull` namespace is deprecated.\n",
      "  from scipy.spatial.qhull import QhullError\n"
     ]
    },
    {
     "ename": "",
     "evalue": "",
     "output_type": "error",
     "traceback": [
      "\u001b[1;31m在当前单元格或上一个单元格中执行代码时 Kernel 崩溃。\n",
      "\u001b[1;31m请查看单元格中的代码，以确定故障的可能原因。\n",
      "\u001b[1;31m单击<a href='https://aka.ms/vscodeJupyterKernelCrash'>此处</a>了解详细信息。\n",
      "\u001b[1;31m有关更多详细信息，请查看 Jupyter <a href='command:jupyter.viewOutput'>log</a>。"
     ]
    }
   ],
   "source": [
    "#--- Cell 6: Training function ---\n",
    "def train_one_fold(\n",
    "    train_loader,\n",
    "    valid_loader,\n",
    "    model,\n",
    "    optimizer,\n",
    "    loss_fn,\n",
    "    svd_y,\n",
    "    train_params,\n",
    "    n_fold,\n",
    "    model_name\n",
    "):\n",
    "    \"\"\"\n",
    "    Validation metric is Pearson correlation on the original (CLR-transformed) space.\n",
    "    \"\"\"\n",
    "    best_val_corr = -1.0\n",
    "    model_path = f\"model_{model_name}_fold_{n_fold+1}.pth\"\n",
    "\n",
    "    for epoch in range(train_params['epochs']):\n",
    "        # --- Training Phase ---\n",
    "        model.train()\n",
    "        for features, targets_low, _ in train_loader:\n",
    "            features, targets_low = features.to(DEVICE), targets_low.to(DEVICE)\n",
    "            \n",
    "            optimizer.zero_grad()\n",
    "            preds_low = model(features)\n",
    "            loss = loss_fn(preds_low, targets_low)\n",
    "            loss.backward()\n",
    "            optimizer.step()\n",
    "\n",
    "        # --- Validation Phase ---\n",
    "        model.eval()\n",
    "        val_loss_latent = 0.0\n",
    "        all_recon_preds = []\n",
    "        all_full_targets = []\n",
    "        \n",
    "        with torch.no_grad():\n",
    "            for features, targets_low, targets_full in valid_loader:\n",
    "                features, targets_low = features.to(DEVICE), targets_low.to(DEVICE)\n",
    "                \n",
    "                preds_low = model(features)\n",
    "                \n",
    "                loss = loss_fn(preds_low, targets_low)\n",
    "                val_loss_latent += loss.item() * len(features)\n",
    "                \n",
    "                recon_preds = svd_y.inverse_transform(preds_low.cpu().numpy())\n",
    "                all_recon_preds.append(recon_preds)\n",
    "                all_full_targets.append(targets_full.numpy())\n",
    "        \n",
    "        # Calculate and report metrics for the epoch\n",
    "        val_loss_latent /= len(valid_loader.dataset)\n",
    "        val_preds_full = np.concatenate(all_recon_preds)\n",
    "        val_targets_full = np.concatenate(all_full_targets)\n",
    "        val_corr = pearson_corr_numpy(val_preds_full, val_targets_full)\n",
    "        \n",
    "        # Save the model if the Pearson correlation on the validation set has improved\n",
    "        if val_corr > best_val_corr:\n",
    "            best_val_corr = val_corr\n",
    "            torch.save(model.state_dict(), model_path)\n",
    "            \n",
    "        if (epoch + 1) % 10 == 0:\n",
    "            print(f\"  Epoch {epoch+1}/{train_params['epochs']}, \"\n",
    "                  f\"Latent Loss: {val_loss_latent:.4f}, \"\n",
    "                  f\"Validation Pearson Corr: {val_corr:.4f}\")\n",
    "    \n",
    "    print(f\"Best validation Pearson correlation for fold {n_fold+1}: {best_val_corr:.4f}\")\n",
    "    return model_path"
   ]
  },
  {
   "cell_type": "code",
   "execution_count": null,
   "id": "67a249f2",
   "metadata": {},
   "outputs": [
    {
     "name": "stdout",
     "output_type": "stream",
     "text": [
      "\n",
      "===== Processing Fold 1/5 =====\n"
     ]
    },
    {
     "name": "stderr",
     "output_type": "stream",
     "text": [
      "c:\\Users\\Easyai\\.conda\\envs\\torch201-py39-cuda118\\lib\\site-packages\\umap\\umap_.py:3211: UserWarning: Inverse transform works best with low dimensional embeddings. Results may be poor, or this approach to inverse transform may fail altogether! If you need a high dimensional latent space and inverse transform operations consider using an autoencoder.\n",
      "  warn(\n"
     ]
    }
   ],
   "source": [
    "#--- Cell 7: Train and Validation ---\n",
    "MODEL_PARAMS = {\n",
    "    'num_features': train_X_umap.shape[1], \n",
    "    'target_dim': train_y_svd.shape[1],\n",
    "    'hidden_size': 1024,\n",
    "    'dropout': 0.25,\n",
    "}\n",
    "TRAIN_PARAMS = {'batch_size': 512, 'epochs': 50, 'lr': 1e-3}\n",
    "folds = KFold(n_splits=5, shuffle=True, random_state=42)\n",
    "\n",
    "sub_preds = np.zeros((test_X_umap.shape[0], train_y_clr.shape[1]), dtype=np.float32)\n",
    "\n",
    "svd_y_loaded = joblib.load('svd_y_model.joblib')\n",
    "\n",
    "# --- Main CV Loop ---\n",
    "for n_fold, (train_idx, valid_idx) in enumerate(folds.split(train_X_umap)):\n",
    "    print(f\"\\n===== Processing Fold {n_fold+1}/{folds.get_n_splits()} =====\")\n",
    "    \n",
    "    # 1. Slice all necessary data arrays for the current fold\n",
    "    X_train_fold, X_valid_fold = train_X_umap[train_idx], train_X_umap[valid_idx]\n",
    "    y_svd_train_fold, y_svd_valid_fold = train_y_svd[train_idx], train_y_svd[valid_idx]\n",
    "    y_clr_train_fold, y_clr_valid_fold = train_y_clr[train_idx], train_y_clr[valid_idx]\n",
    "    \n",
    "    # 2. Prepare DataLoaders, Model, Optimizer, and Loss\n",
    "    train_dataset = MultiTargetDataset(X_train_fold, y_svd_train_fold, y_clr_train_fold)\n",
    "    valid_dataset = MultiTargetDataset(X_valid_fold, y_svd_valid_fold, y_clr_valid_fold)\n",
    "    train_loader = DataLoader(train_dataset, batch_size=TRAIN_PARAMS['batch_size'], shuffle=True, num_workers=0)\n",
    "    valid_loader = DataLoader(valid_dataset, batch_size=TRAIN_PARAMS['batch_size'] * 2, num_workers=0)\n",
    "    \n",
    "    model = FNNModel(**MODEL_PARAMS).to(DEVICE)\n",
    "    optimizer = torch.optim.AdamW(model.parameters(), lr=TRAIN_PARAMS['lr'])\n",
    "    loss_fn = CombinedLoss().to(DEVICE)\n",
    "\n",
    "    # 3. Call the training function\n",
    "    best_model_path = train_one_fold(\n",
    "        train_loader, valid_loader, model, optimizer, loss_fn,\n",
    "        svd_y_loaded,\n",
    "        TRAIN_PARAMS, n_fold, f\"{name}_final_fnn\"\n",
    "    )\n",
    "    \n",
    "    # 4. Load best model and perform predictions on the test set\n",
    "    model.load_state_dict(torch.load(best_model_path))\n",
    "    model.eval()\n",
    "    \n",
    "    # Create DataLoader for the test set (no targets needed)\n",
    "    test_dataset = MultiTargetDataset(test_X_umap, test_X_umap, test_X_umap) \n",
    "    test_loader = DataLoader(test_dataset, batch_size=TRAIN_PARAMS['batch_size'] * 2)\n",
    "    \n",
    "    test_preds_list_low_dim = []\n",
    "    with torch.no_grad():\n",
    "        for features, _, _ in test_loader:\n",
    "            preds_low_dim = model(features.to(DEVICE))\n",
    "            test_preds_list_low_dim.append(preds_low_dim.cpu().numpy())\n",
    "            \n",
    "    test_preds_low_dim = np.concatenate(test_preds_list_low_dim)\n",
    "    \n",
    "    test_preds_high_dim = svd_y_loaded.inverse_transform(test_preds_low_dim)\n",
    "    \n",
    "    # Accumulate predictions for each fold\n",
    "    sub_preds += test_preds_high_dim / folds.get_n_splits()\n",
    "            \n",
    "    # Clean up memory for the next fold\n",
    "    del model, optimizer, loss_fn, train_dataset, valid_dataset, train_loader, valid_loader\n",
    "    gc.collect()\n",
    "    torch.cuda.empty_cache()\n",
    "\n",
    "# --- Save final results ---\n",
    "np.save(f'sub_preds_{name}_final_fnn.npy', sub_preds)\n",
    "print(f'\\nTest predictions saved, shape: {sub_preds.shape}')"
   ]
  },
  {
   "cell_type": "code",
   "execution_count": null,
   "id": "9622b770",
   "metadata": {},
   "outputs": [
    {
     "name": "stdout",
     "output_type": "stream",
     "text": [
      "\n",
      "--- Training Model 2 (MSE Loss with Z-scored Targets) ---\n",
      "\n",
      "===== Fold 1 =====\n",
      "Epoch 1/10, Val Loss: 0.5881\n",
      "Epoch 2/10, Val Loss: 0.5904\n",
      "Epoch 3/10, Val Loss: 0.5882\n",
      "Epoch 4/10, Val Loss: 0.5877\n",
      "Epoch 5/10, Val Loss: 0.5880\n",
      "Epoch 6/10, Val Loss: 0.5877\n",
      "Epoch 7/10, Val Loss: 0.5876\n",
      "Epoch 8/10, Val Loss: 0.5877\n",
      "Epoch 9/10, Val Loss: 0.5878\n",
      "Epoch 10/10, Val Loss: 0.5876\n",
      "Predicting on test set (memory-efficiently)...\n"
     ]
    },
    {
     "data": {
      "application/vnd.jupyter.widget-view+json": {
       "model_id": "dccab141fab142069bdfbc497fa679a9",
       "version_major": 2,
       "version_minor": 0
      },
      "text/plain": [
       "Test Prediction Fold 1:   0%|          | 0/55 [00:00<?, ?it/s]"
      ]
     },
     "metadata": {},
     "output_type": "display_data"
    },
    {
     "name": "stdout",
     "output_type": "stream",
     "text": [
      "\n",
      "===== Fold 2 =====\n",
      "Epoch 1/10, Val Loss: 0.5866\n",
      "Epoch 2/10, Val Loss: 0.5867\n",
      "Epoch 3/10, Val Loss: 0.5882\n",
      "Epoch 4/10, Val Loss: 0.5865\n",
      "Epoch 5/10, Val Loss: 0.5865\n",
      "Epoch 6/10, Val Loss: 0.5868\n",
      "Epoch 7/10, Val Loss: 0.5877\n",
      "Epoch 8/10, Val Loss: 0.5863\n",
      "Epoch 9/10, Val Loss: 0.5863\n",
      "Epoch 10/10, Val Loss: 0.5863\n",
      "Predicting on test set (memory-efficiently)...\n"
     ]
    },
    {
     "data": {
      "application/vnd.jupyter.widget-view+json": {
       "model_id": "28d7dd0055b64379b84a73c2bc747fdf",
       "version_major": 2,
       "version_minor": 0
      },
      "text/plain": [
       "Test Prediction Fold 2:   0%|          | 0/55 [00:00<?, ?it/s]"
      ]
     },
     "metadata": {},
     "output_type": "display_data"
    },
    {
     "name": "stdout",
     "output_type": "stream",
     "text": [
      "\n",
      "===== Fold 3 =====\n",
      "Epoch 1/10, Val Loss: 0.5883\n",
      "Epoch 2/10, Val Loss: 0.5894\n",
      "Epoch 3/10, Val Loss: 0.5886\n",
      "Epoch 4/10, Val Loss: 0.5884\n",
      "Epoch 5/10, Val Loss: 0.5885\n",
      "Epoch 6/10, Val Loss: 0.5883\n",
      "Epoch 7/10, Val Loss: 0.5882\n",
      "Epoch 8/10, Val Loss: 0.5880\n",
      "Epoch 9/10, Val Loss: 0.5881\n",
      "Epoch 10/10, Val Loss: 0.5880\n",
      "Predicting on test set (memory-efficiently)...\n"
     ]
    },
    {
     "data": {
      "application/vnd.jupyter.widget-view+json": {
       "model_id": "feb43b60cf8d4f94a3f0074eb1324df0",
       "version_major": 2,
       "version_minor": 0
      },
      "text/plain": [
       "Test Prediction Fold 3:   0%|          | 0/55 [00:00<?, ?it/s]"
      ]
     },
     "metadata": {},
     "output_type": "display_data"
    },
    {
     "name": "stdout",
     "output_type": "stream",
     "text": [
      "\n",
      "===== Fold 4 =====\n",
      "Epoch 1/10, Val Loss: 0.5872\n",
      "Epoch 2/10, Val Loss: 0.5872\n",
      "Epoch 3/10, Val Loss: 0.5872\n",
      "Epoch 4/10, Val Loss: 0.5872\n",
      "Epoch 5/10, Val Loss: 0.5871\n",
      "Epoch 6/10, Val Loss: 0.5872\n",
      "Epoch 7/10, Val Loss: 0.5873\n",
      "Epoch 8/10, Val Loss: 0.5874\n",
      "Epoch 9/10, Val Loss: 0.5870\n",
      "Epoch 10/10, Val Loss: 0.5876\n",
      "Predicting on test set (memory-efficiently)...\n"
     ]
    },
    {
     "data": {
      "application/vnd.jupyter.widget-view+json": {
       "model_id": "88416c2531b7439e9c54826be1439489",
       "version_major": 2,
       "version_minor": 0
      },
      "text/plain": [
       "Test Prediction Fold 4:   0%|          | 0/55 [00:00<?, ?it/s]"
      ]
     },
     "metadata": {},
     "output_type": "display_data"
    },
    {
     "name": "stdout",
     "output_type": "stream",
     "text": [
      "\n",
      "===== Fold 5 =====\n",
      "Epoch 1/10, Val Loss: 0.5881\n",
      "Epoch 2/10, Val Loss: 0.5878\n",
      "Epoch 3/10, Val Loss: 0.5876\n",
      "Epoch 4/10, Val Loss: 0.5875\n",
      "Epoch 5/10, Val Loss: 0.5875\n",
      "Epoch 6/10, Val Loss: 0.5876\n",
      "Epoch 7/10, Val Loss: 0.5876\n",
      "Epoch 8/10, Val Loss: 0.5877\n",
      "Epoch 9/10, Val Loss: 0.5875\n",
      "Epoch 10/10, Val Loss: 0.5875\n",
      "Predicting on test set (memory-efficiently)...\n"
     ]
    },
    {
     "data": {
      "application/vnd.jupyter.widget-view+json": {
       "model_id": "93ab18952ac84b4cb0cb86f41cf72611",
       "version_major": 2,
       "version_minor": 0
      },
      "text/plain": [
       "Test Prediction Fold 5:   0%|          | 0/55 [00:00<?, ?it/s]"
      ]
     },
     "metadata": {},
     "output_type": "display_data"
    },
    {
     "name": "stdout",
     "output_type": "stream",
     "text": [
      "\n",
      "Overall CV Pearson Score: 0.6425\n",
      "\n",
      "--- Saving predictions from Model 1 to disk ---\n",
      "Saved oof_preds_mse_multi.npy and sub_preds_mse_multi.npy successfully.\n"
     ]
    }
   ],
   "source": [
    "# --- Cell 8: Cleanup (Restored) ---\n",
    "\n",
    "# Final step: remove all saved model files\n",
    "print(\"\\nCleaning up saved model files...\")\n",
    "for n_fold in range(folds.get_n_splits()):\n",
    "    model_path = f\"model_{name}_final_fnn_fold_{n_fold+1}.pth\"\n",
    "    try:\n",
    "        os.remove(model_path)\n",
    "        print(f\"Removed: {model_path}\")\n",
    "    except OSError as e:\n",
    "        print(f\"Error removing {model_path}: {e}\")\n",
    "\n",
    "# Also remove the SVD mapper file, as it is now saved again\n",
    "try:\n",
    "    os.remove('svd_y_model.joblib')\n",
    "    print(\"Removed: svd_y_model.joblib\")\n",
    "except OSError as e:\n",
    "    print(f\"Error removing svd_y_model.joblib: {e}\")\n",
    "\n",
    "print(\"\\nCleanup complete. Only prediction files remain.\")"
   ]
  }
 ],
 "metadata": {
  "kernelspec": {
   "display_name": "torch201-py39-cuda118",
   "language": "python",
   "name": "python3"
  },
  "language_info": {
   "codemirror_mode": {
    "name": "ipython",
    "version": 3
   },
   "file_extension": ".py",
   "mimetype": "text/x-python",
   "name": "python",
   "nbconvert_exporter": "python",
   "pygments_lexer": "ipython3",
   "version": "3.9.13"
  }
 },
 "nbformat": 4,
 "nbformat_minor": 5
}
